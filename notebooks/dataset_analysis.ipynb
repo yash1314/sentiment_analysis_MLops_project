{
 "cells": [
  {
   "cell_type": "code",
   "execution_count": 1,
   "id": "bc02b40f-0d19-4584-9f2b-a98e01e92246",
   "metadata": {},
   "outputs": [],
   "source": [
    "import pandas as pd\n",
    "import numpy as np\n",
    "import matplotlib.pyplot as plt\n",
    "import seaborn as sns\n",
    "\n",
    "import warnings\n",
    "warnings.filterwarnings('ignore')"
   ]
  },
  {
   "cell_type": "code",
   "execution_count": 3,
   "id": "008a149b-e3bb-47e8-8dcd-cc6c6f0368ed",
   "metadata": {},
   "outputs": [],
   "source": [
    "df = pd.read_csv(\"data/new_hate.csv\")"
   ]
  },
  {
   "cell_type": "code",
   "execution_count": 4,
   "id": "9f1e8e36-0f18-4a0f-81ed-dc407678b8f7",
   "metadata": {},
   "outputs": [],
   "source": [
    "new_df = df.copy()"
   ]
  },
  {
   "cell_type": "code",
   "execution_count": 5,
   "id": "04714b2b-d8dd-4c6e-8e2b-6c4fe0be223d",
   "metadata": {},
   "outputs": [
    {
     "data": {
      "text/html": [
       "<div>\n",
       "<style scoped>\n",
       "    .dataframe tbody tr th:only-of-type {\n",
       "        vertical-align: middle;\n",
       "    }\n",
       "\n",
       "    .dataframe tbody tr th {\n",
       "        vertical-align: top;\n",
       "    }\n",
       "\n",
       "    .dataframe thead th {\n",
       "        text-align: right;\n",
       "    }\n",
       "</style>\n",
       "<table border=\"1\" class=\"dataframe\">\n",
       "  <thead>\n",
       "    <tr style=\"text-align: right;\">\n",
       "      <th></th>\n",
       "      <th>Unnamed: 0</th>\n",
       "      <th>comment</th>\n",
       "      <th>label</th>\n",
       "    </tr>\n",
       "  </thead>\n",
       "  <tbody>\n",
       "    <tr>\n",
       "      <th>0</th>\n",
       "      <td>1</td>\n",
       "      <td>dalits are lowlives</td>\n",
       "      <td>N</td>\n",
       "    </tr>\n",
       "    <tr>\n",
       "      <th>1</th>\n",
       "      <td>2</td>\n",
       "      <td>gay people are a burden to our society</td>\n",
       "      <td>N</td>\n",
       "    </tr>\n",
       "    <tr>\n",
       "      <th>2</th>\n",
       "      <td>3</td>\n",
       "      <td>Arabs are not welcome</td>\n",
       "      <td>N</td>\n",
       "    </tr>\n",
       "    <tr>\n",
       "      <th>3</th>\n",
       "      <td>4</td>\n",
       "      <td>I'm not saying we should actually eliminate he...</td>\n",
       "      <td>N</td>\n",
       "    </tr>\n",
       "  </tbody>\n",
       "</table>\n",
       "</div>"
      ],
      "text/plain": [
       "   Unnamed: 0                                            comment label\n",
       "0           1                                dalits are lowlives     N\n",
       "1           2             gay people are a burden to our society     N\n",
       "2           3                              Arabs are not welcome     N\n",
       "3           4  I'm not saying we should actually eliminate he...     N"
      ]
     },
     "execution_count": 5,
     "metadata": {},
     "output_type": "execute_result"
    }
   ],
   "source": [
    "df.head(4)"
   ]
  },
  {
   "cell_type": "markdown",
   "id": "debad447-70cb-471e-b98e-f8de3d445432",
   "metadata": {},
   "source": [
    "## Exploring the dataset"
   ]
  },
  {
   "cell_type": "code",
   "execution_count": 6,
   "id": "ab9e9f30-a453-4ddf-8d34-9cc6f9df9937",
   "metadata": {},
   "outputs": [],
   "source": [
    "#### We will rename first unnamed: 0 column\n",
    "\n",
    "df.rename(columns={'Unnamed: 0': 'serial'}, inplace=True)"
   ]
  },
  {
   "cell_type": "code",
   "execution_count": 7,
   "id": "86f33dc2-c8a2-4607-b992-3340e912a0b0",
   "metadata": {},
   "outputs": [
    {
     "data": {
      "text/html": [
       "<div>\n",
       "<style scoped>\n",
       "    .dataframe tbody tr th:only-of-type {\n",
       "        vertical-align: middle;\n",
       "    }\n",
       "\n",
       "    .dataframe tbody tr th {\n",
       "        vertical-align: top;\n",
       "    }\n",
       "\n",
       "    .dataframe thead th {\n",
       "        text-align: right;\n",
       "    }\n",
       "</style>\n",
       "<table border=\"1\" class=\"dataframe\">\n",
       "  <thead>\n",
       "    <tr style=\"text-align: right;\">\n",
       "      <th></th>\n",
       "      <th>serial</th>\n",
       "      <th>comment</th>\n",
       "      <th>label</th>\n",
       "    </tr>\n",
       "  </thead>\n",
       "  <tbody>\n",
       "    <tr>\n",
       "      <th>9509</th>\n",
       "      <td>9555</td>\n",
       "      <td>most women who wear the burka want to wear it,...</td>\n",
       "      <td>P</td>\n",
       "    </tr>\n",
       "    <tr>\n",
       "      <th>30574</th>\n",
       "      <td>30657</td>\n",
       "      <td>Repeat after me: all trans are  F ? C K I N G ...</td>\n",
       "      <td>N</td>\n",
       "    </tr>\n",
       "  </tbody>\n",
       "</table>\n",
       "</div>"
      ],
      "text/plain": [
       "       serial                                            comment label\n",
       "9509     9555  most women who wear the burka want to wear it,...     P\n",
       "30574   30657  Repeat after me: all trans are  F ? C K I N G ...     N"
      ]
     },
     "execution_count": 7,
     "metadata": {},
     "output_type": "execute_result"
    }
   ],
   "source": [
    "df.sample(2)"
   ]
  },
  {
   "cell_type": "code",
   "execution_count": 8,
   "id": "4c784ac0-c705-458d-9ed6-a83ccc40a31c",
   "metadata": {},
   "outputs": [
    {
     "name": "stdout",
     "output_type": "stream",
     "text": [
      "<class 'pandas.core.frame.DataFrame'>\n",
      "RangeIndex: 41144 entries, 0 to 41143\n",
      "Data columns (total 3 columns):\n",
      " #   Column   Non-Null Count  Dtype \n",
      "---  ------   --------------  ----- \n",
      " 0   serial   41144 non-null  int64 \n",
      " 1   comment  41144 non-null  object\n",
      " 2   label    41144 non-null  object\n",
      "dtypes: int64(1), object(2)\n",
      "memory usage: 964.4+ KB\n"
     ]
    }
   ],
   "source": [
    "df.info()"
   ]
  },
  {
   "cell_type": "code",
   "execution_count": 9,
   "id": "787e47a3-84c3-4489-8a36-c6542e274694",
   "metadata": {},
   "outputs": [
    {
     "data": {
      "text/html": [
       "<div>\n",
       "<style scoped>\n",
       "    .dataframe tbody tr th:only-of-type {\n",
       "        vertical-align: middle;\n",
       "    }\n",
       "\n",
       "    .dataframe tbody tr th {\n",
       "        vertical-align: top;\n",
       "    }\n",
       "\n",
       "    .dataframe thead th {\n",
       "        text-align: right;\n",
       "    }\n",
       "</style>\n",
       "<table border=\"1\" class=\"dataframe\">\n",
       "  <thead>\n",
       "    <tr style=\"text-align: right;\">\n",
       "      <th></th>\n",
       "      <th>serial</th>\n",
       "    </tr>\n",
       "  </thead>\n",
       "  <tbody>\n",
       "    <tr>\n",
       "      <th>count</th>\n",
       "      <td>41144.000000</td>\n",
       "    </tr>\n",
       "    <tr>\n",
       "      <th>mean</th>\n",
       "      <td>20703.991056</td>\n",
       "    </tr>\n",
       "    <tr>\n",
       "      <th>std</th>\n",
       "      <td>12580.884040</td>\n",
       "    </tr>\n",
       "    <tr>\n",
       "      <th>min</th>\n",
       "      <td>1.000000</td>\n",
       "    </tr>\n",
       "    <tr>\n",
       "      <th>25%</th>\n",
       "      <td>10295.750000</td>\n",
       "    </tr>\n",
       "    <tr>\n",
       "      <th>50%</th>\n",
       "      <td>20593.500000</td>\n",
       "    </tr>\n",
       "    <tr>\n",
       "      <th>75%</th>\n",
       "      <td>30894.250000</td>\n",
       "    </tr>\n",
       "    <tr>\n",
       "      <th>max</th>\n",
       "      <td>331000.000000</td>\n",
       "    </tr>\n",
       "  </tbody>\n",
       "</table>\n",
       "</div>"
      ],
      "text/plain": [
       "              serial\n",
       "count   41144.000000\n",
       "mean    20703.991056\n",
       "std     12580.884040\n",
       "min         1.000000\n",
       "25%     10295.750000\n",
       "50%     20593.500000\n",
       "75%     30894.250000\n",
       "max    331000.000000"
      ]
     },
     "execution_count": 9,
     "metadata": {},
     "output_type": "execute_result"
    }
   ],
   "source": [
    "df.describe()"
   ]
  },
  {
   "cell_type": "code",
   "execution_count": 10,
   "id": "a84d9938-46d6-4990-80ab-45d5be930942",
   "metadata": {},
   "outputs": [
    {
     "data": {
      "text/html": [
       "<div>\n",
       "<style scoped>\n",
       "    .dataframe tbody tr th:only-of-type {\n",
       "        vertical-align: middle;\n",
       "    }\n",
       "\n",
       "    .dataframe tbody tr th {\n",
       "        vertical-align: top;\n",
       "    }\n",
       "\n",
       "    .dataframe thead th {\n",
       "        text-align: right;\n",
       "    }\n",
       "</style>\n",
       "<table border=\"1\" class=\"dataframe\">\n",
       "  <thead>\n",
       "    <tr style=\"text-align: right;\">\n",
       "      <th></th>\n",
       "      <th>count</th>\n",
       "      <th>unique</th>\n",
       "      <th>top</th>\n",
       "      <th>freq</th>\n",
       "    </tr>\n",
       "  </thead>\n",
       "  <tbody>\n",
       "    <tr>\n",
       "      <th>comment</th>\n",
       "      <td>41144</td>\n",
       "      <td>41134</td>\n",
       "      <td>Blacks are such pondlife</td>\n",
       "      <td>5</td>\n",
       "    </tr>\n",
       "    <tr>\n",
       "      <th>label</th>\n",
       "      <td>41144</td>\n",
       "      <td>3</td>\n",
       "      <td>N</td>\n",
       "      <td>22158</td>\n",
       "    </tr>\n",
       "  </tbody>\n",
       "</table>\n",
       "</div>"
      ],
      "text/plain": [
       "         count unique                       top   freq\n",
       "comment  41144  41134  Blacks are such pondlife      5\n",
       "label    41144      3                         N  22158"
      ]
     },
     "execution_count": 10,
     "metadata": {},
     "output_type": "execute_result"
    }
   ],
   "source": [
    "df[['comment', 'label']].describe().T"
   ]
  },
  {
   "cell_type": "markdown",
   "id": "a64a4a23-7f8a-43f6-a741-80b9ed896720",
   "metadata": {},
   "source": [
    "#### Looking at above pivot table we can understand that label column might be imbalance and comment column contains duplicate values. Lets find out."
   ]
  },
  {
   "cell_type": "code",
   "execution_count": 11,
   "id": "c844b500-c911-4e01-82fa-89eb994ec83b",
   "metadata": {},
   "outputs": [
    {
     "data": {
      "text/plain": [
       "serial     0\n",
       "comment    0\n",
       "label      0\n",
       "dtype: int64"
      ]
     },
     "execution_count": 11,
     "metadata": {},
     "output_type": "execute_result"
    }
   ],
   "source": [
    "df.isnull().sum()  ## No missing values."
   ]
  },
  {
   "cell_type": "code",
   "execution_count": 12,
   "id": "902e2c25-4290-4cfd-8f8f-58b453a4875e",
   "metadata": {},
   "outputs": [],
   "source": [
    "dup = df[df.duplicated(keep = False)]"
   ]
  },
  {
   "cell_type": "code",
   "execution_count": 14,
   "id": "7d2e9d18-2d87-4e12-acea-91a53b3332d0",
   "metadata": {},
   "outputs": [],
   "source": [
    "for _, group in dup.groupby(list(dup.columns)):\n",
    "    print(group)"
   ]
  },
  {
   "cell_type": "markdown",
   "id": "b9259fff-a065-4068-9081-de41de54e1b2",
   "metadata": {},
   "source": [
    "#### Lets drop the duplicate data."
   ]
  },
  {
   "cell_type": "code",
   "execution_count": 15,
   "id": "f41c1657-d34b-40bb-93cc-09bcd3e8dde4",
   "metadata": {},
   "outputs": [],
   "source": [
    "df.drop_duplicates(keep='first', inplace=True)"
   ]
  },
  {
   "cell_type": "code",
   "execution_count": 16,
   "id": "91a5902c-ef77-40ed-9e6b-737b942eb5f6",
   "metadata": {},
   "outputs": [
    {
     "data": {
      "text/html": [
       "<div>\n",
       "<style scoped>\n",
       "    .dataframe tbody tr th:only-of-type {\n",
       "        vertical-align: middle;\n",
       "    }\n",
       "\n",
       "    .dataframe tbody tr th {\n",
       "        vertical-align: top;\n",
       "    }\n",
       "\n",
       "    .dataframe thead th {\n",
       "        text-align: right;\n",
       "    }\n",
       "</style>\n",
       "<table border=\"1\" class=\"dataframe\">\n",
       "  <thead>\n",
       "    <tr style=\"text-align: right;\">\n",
       "      <th></th>\n",
       "      <th>serial</th>\n",
       "      <th>comment</th>\n",
       "      <th>label</th>\n",
       "    </tr>\n",
       "  </thead>\n",
       "  <tbody>\n",
       "  </tbody>\n",
       "</table>\n",
       "</div>"
      ],
      "text/plain": [
       "Empty DataFrame\n",
       "Columns: [serial, comment, label]\n",
       "Index: []"
      ]
     },
     "execution_count": 16,
     "metadata": {},
     "output_type": "execute_result"
    }
   ],
   "source": [
    "df[df.duplicated()] # Dupicate columns removed."
   ]
  },
  {
   "cell_type": "code",
   "execution_count": 17,
   "id": "9978d6c4-8d9a-45a1-aa6d-bfc0275037dd",
   "metadata": {},
   "outputs": [
    {
     "data": {
      "text/plain": [
       "label\n",
       "N    22158\n",
       "P    18950\n",
       "O       36\n",
       "Name: count, dtype: int64"
      ]
     },
     "execution_count": 17,
     "metadata": {},
     "output_type": "execute_result"
    }
   ],
   "source": [
    "df[\"label\"].value_counts()"
   ]
  },
  {
   "cell_type": "code",
   "execution_count": 18,
   "id": "3f3d7945-3765-490b-adf2-7f5c08ec45a1",
   "metadata": {},
   "outputs": [
    {
     "data": {
      "text/plain": [
       "1.169287598944591"
      ]
     },
     "execution_count": 18,
     "metadata": {},
     "output_type": "execute_result"
    }
   ],
   "source": [
    "len(df[df.label == 'N']) / len(df[df.label == 'P'])"
   ]
  },
  {
   "cell_type": "markdown",
   "id": "2ba2f276-9d87-451f-bd75-d56cb400b8f0",
   "metadata": {},
   "source": [
    "#### So our majority class is just 1.17 times more than minority class and it dosen't comes under the severe category. So we will leave as it is because for sentiment analysis it can distort the dataset."
   ]
  },
  {
   "cell_type": "code",
   "execution_count": 19,
   "id": "b9ccc6b8-dc39-4f82-b2c7-db645940035b",
   "metadata": {},
   "outputs": [],
   "source": [
    "df['label'].loc[df['label'] == 'O' ] = df[df['label'] == 'O']['comment'].str.extract('([NPO])', expand = False)"
   ]
  },
  {
   "cell_type": "code",
   "execution_count": 18,
   "id": "4adbbb9d-4fd3-47dc-91e1-aa2cd4d96463",
   "metadata": {},
   "outputs": [
    {
     "data": {
      "text/plain": [
       "label\n",
       "N    22174\n",
       "P    18967\n",
       "O        2\n",
       "Name: count, dtype: int64"
      ]
     },
     "execution_count": 18,
     "metadata": {},
     "output_type": "execute_result"
    }
   ],
   "source": [
    "df.label.value_counts()"
   ]
  },
  {
   "cell_type": "code",
   "execution_count": 19,
   "id": "ccf461cc-77be-4fd6-887d-435d89e8f433",
   "metadata": {},
   "outputs": [
    {
     "data": {
      "text/plain": [
       "7642     O\n",
       "31213    O\n",
       "Name: label, dtype: object"
      ]
     },
     "execution_count": 19,
     "metadata": {},
     "output_type": "execute_result"
    }
   ],
   "source": [
    "df.label[df['label'] == 'O']"
   ]
  },
  {
   "cell_type": "code",
   "execution_count": 20,
   "id": "29e9e864-c42e-436c-aee0-e46ede007d3d",
   "metadata": {},
   "outputs": [],
   "source": [
    "df.label.loc[7642] = df['comment'].loc[7642][-2]"
   ]
  },
  {
   "cell_type": "code",
   "execution_count": 21,
   "id": "68a313e7-ef7d-494a-8af8-6b31e4f2b613",
   "metadata": {},
   "outputs": [],
   "source": [
    "df.label.loc[31213] = df['comment'].loc[31213][-2]"
   ]
  },
  {
   "cell_type": "code",
   "execution_count": 22,
   "id": "5f63b44f-eb0b-4282-89f0-e051c8732b18",
   "metadata": {},
   "outputs": [
    {
     "data": {
      "text/plain": [
       "label\n",
       "N    22175\n",
       "P    18968\n",
       "Name: count, dtype: int64"
      ]
     },
     "execution_count": 22,
     "metadata": {},
     "output_type": "execute_result"
    }
   ],
   "source": [
    "df.label.value_counts()"
   ]
  },
  {
   "cell_type": "code",
   "execution_count": 23,
   "id": "2161b59f-1abc-45b2-9a30-477c86255154",
   "metadata": {},
   "outputs": [
    {
     "data": {
      "text/plain": [
       "14616    NaN\n",
       "Name: label, dtype: object"
      ]
     },
     "execution_count": 23,
     "metadata": {},
     "output_type": "execute_result"
    }
   ],
   "source": [
    "df.label[df.label.isnull()]"
   ]
  },
  {
   "cell_type": "markdown",
   "id": "ca829a03-dee3-45be-b310-9f1d8e22705c",
   "metadata": {},
   "source": [
    "#### As we don't know what is the sentiment of the comment, we will drop the nan value row. It won't cost us much as its only 1 row."
   ]
  },
  {
   "cell_type": "code",
   "execution_count": 24,
   "id": "38b8dab9-b1d1-4664-bbb7-aaf70efd9435",
   "metadata": {},
   "outputs": [],
   "source": [
    "df.dropna(inplace = True)"
   ]
  },
  {
   "cell_type": "code",
   "execution_count": 25,
   "id": "fae2a233-1b27-48b8-9422-529a6f5a3edf",
   "metadata": {},
   "outputs": [
    {
     "data": {
      "text/plain": [
       "Series([], Name: label, dtype: object)"
      ]
     },
     "execution_count": 25,
     "metadata": {},
     "output_type": "execute_result"
    }
   ],
   "source": [
    "df.label[df.label.isnull()]"
   ]
  },
  {
   "cell_type": "code",
   "execution_count": 37,
   "id": "45994b7b-0653-426f-a4b2-78b34009ac93",
   "metadata": {},
   "outputs": [
    {
     "data": {
      "text/html": [
       "<div>\n",
       "<style scoped>\n",
       "    .dataframe tbody tr th:only-of-type {\n",
       "        vertical-align: middle;\n",
       "    }\n",
       "\n",
       "    .dataframe tbody tr th {\n",
       "        vertical-align: top;\n",
       "    }\n",
       "\n",
       "    .dataframe thead th {\n",
       "        text-align: right;\n",
       "    }\n",
       "</style>\n",
       "<table border=\"1\" class=\"dataframe\">\n",
       "  <thead>\n",
       "    <tr style=\"text-align: right;\">\n",
       "      <th></th>\n",
       "      <th>serial</th>\n",
       "      <th>comment</th>\n",
       "      <th>label</th>\n",
       "    </tr>\n",
       "  </thead>\n",
       "  <tbody>\n",
       "  </tbody>\n",
       "</table>\n",
       "</div>"
      ],
      "text/plain": [
       "Empty DataFrame\n",
       "Columns: [serial, comment, label]\n",
       "Index: []"
      ]
     },
     "execution_count": 37,
     "metadata": {},
     "output_type": "execute_result"
    }
   ],
   "source": [
    "df[df.duplicated(keep = False)]"
   ]
  },
  {
   "cell_type": "code",
   "execution_count": 30,
   "id": "68d7ac65-7020-4647-886c-72b58fe848c2",
   "metadata": {},
   "outputs": [],
   "source": [
    "for i in list(new_df[new_df['label'] == 'O']['comment'].index):\n",
    "    if i != 14616:\n",
    "        df['comment'].loc[i] = df['comment'].loc[i][:-3]"
   ]
  },
  {
   "cell_type": "markdown",
   "id": "d4eedca0-8f63-46f5-bf3d-eb84486d0661",
   "metadata": {},
   "source": [
    "### null values, duplicate values and wrong values are successfully handled."
   ]
  },
  {
   "cell_type": "markdown",
   "id": "3dcc86df-2209-4657-b678-9abe83a7a058",
   "metadata": {},
   "source": [
    "### Now data processing for NLP\n",
    "\n",
    "- Lower case\n",
    "- Tokenization\n",
    "- Removing special characters\n",
    "- Removing stop words and punctuation\n",
    "- Stemming"
   ]
  },
  {
   "cell_type": "code",
   "execution_count": 59,
   "id": "cf5d1c64-842f-453e-a754-8da5f7755a8f",
   "metadata": {},
   "outputs": [],
   "source": [
    "import nltk\n",
    "import string\n",
    "from nltk.corpus import stopwords\n",
    "from nltk.stem import WordNetLemmatizer\n",
    "\n",
    "from nltk.stem.porter import PorterStemmer\n",
    "ps = PorterStemmer()"
   ]
  },
  {
   "cell_type": "code",
   "execution_count": 45,
   "id": "6ab0c342-a408-4238-8f07-d9c670a7d595",
   "metadata": {},
   "outputs": [
    {
     "name": "stderr",
     "output_type": "stream",
     "text": [
      "[nltk_data] Downloading package punkt to\n",
      "[nltk_data]     C:\\Users\\nancy\\AppData\\Roaming\\nltk_data...\n",
      "[nltk_data]   Package punkt is already up-to-date!\n",
      "[nltk_data] Downloading package stopwords to\n",
      "[nltk_data]     C:\\Users\\nancy\\AppData\\Roaming\\nltk_data...\n",
      "[nltk_data]   Package stopwords is already up-to-date!\n",
      "[nltk_data] Downloading package wordnet to\n",
      "[nltk_data]     C:\\Users\\nancy\\AppData\\Roaming\\nltk_data...\n",
      "[nltk_data]   Package wordnet is already up-to-date!\n"
     ]
    },
    {
     "data": {
      "text/plain": [
       "True"
      ]
     },
     "execution_count": 45,
     "metadata": {},
     "output_type": "execute_result"
    }
   ],
   "source": [
    "nltk.download('punkt')\n",
    "nltk.download('stopwords')\n",
    "nltk.download('wordnet')"
   ]
  },
  {
   "cell_type": "code",
   "execution_count": 39,
   "id": "f6fcb698-4211-422e-af54-6b786fb2f346",
   "metadata": {},
   "outputs": [
    {
     "data": {
      "text/html": [
       "<div>\n",
       "<style scoped>\n",
       "    .dataframe tbody tr th:only-of-type {\n",
       "        vertical-align: middle;\n",
       "    }\n",
       "\n",
       "    .dataframe tbody tr th {\n",
       "        vertical-align: top;\n",
       "    }\n",
       "\n",
       "    .dataframe thead th {\n",
       "        text-align: right;\n",
       "    }\n",
       "</style>\n",
       "<table border=\"1\" class=\"dataframe\">\n",
       "  <thead>\n",
       "    <tr style=\"text-align: right;\">\n",
       "      <th></th>\n",
       "      <th>serial</th>\n",
       "      <th>comment</th>\n",
       "      <th>label</th>\n",
       "    </tr>\n",
       "  </thead>\n",
       "  <tbody>\n",
       "    <tr>\n",
       "      <th>0</th>\n",
       "      <td>1</td>\n",
       "      <td>dalits are lowlives</td>\n",
       "      <td>N</td>\n",
       "    </tr>\n",
       "    <tr>\n",
       "      <th>1</th>\n",
       "      <td>2</td>\n",
       "      <td>gay people are a burden to our society</td>\n",
       "      <td>N</td>\n",
       "    </tr>\n",
       "    <tr>\n",
       "      <th>2</th>\n",
       "      <td>3</td>\n",
       "      <td>Arabs are not welcome</td>\n",
       "      <td>N</td>\n",
       "    </tr>\n",
       "    <tr>\n",
       "      <th>3</th>\n",
       "      <td>4</td>\n",
       "      <td>I'm not saying we should actually eliminate he...</td>\n",
       "      <td>N</td>\n",
       "    </tr>\n",
       "    <tr>\n",
       "      <th>4</th>\n",
       "      <td>5</td>\n",
       "      <td>bananas are for black people</td>\n",
       "      <td>N</td>\n",
       "    </tr>\n",
       "  </tbody>\n",
       "</table>\n",
       "</div>"
      ],
      "text/plain": [
       "   serial                                            comment label\n",
       "0       1                                dalits are lowlives     N\n",
       "1       2             gay people are a burden to our society     N\n",
       "2       3                              Arabs are not welcome     N\n",
       "3       4  I'm not saying we should actually eliminate he...     N\n",
       "4       5                       bananas are for black people     N"
      ]
     },
     "execution_count": 39,
     "metadata": {},
     "output_type": "execute_result"
    }
   ],
   "source": [
    "df.head()"
   ]
  },
  {
   "cell_type": "code",
   "execution_count": 41,
   "id": "2958f0f4-b936-424a-971f-a514f9c5c722",
   "metadata": {},
   "outputs": [],
   "source": [
    "df.drop(['serial'], axis = 1, inplace = True) #removing serial columm."
   ]
  },
  {
   "cell_type": "code",
   "execution_count": 161,
   "id": "7fdb84b2-af32-491a-8865-f79a41b5a48d",
   "metadata": {},
   "outputs": [
    {
     "data": {
      "text/html": [
       "<div>\n",
       "<style scoped>\n",
       "    .dataframe tbody tr th:only-of-type {\n",
       "        vertical-align: middle;\n",
       "    }\n",
       "\n",
       "    .dataframe tbody tr th {\n",
       "        vertical-align: top;\n",
       "    }\n",
       "\n",
       "    .dataframe thead th {\n",
       "        text-align: right;\n",
       "    }\n",
       "</style>\n",
       "<table border=\"1\" class=\"dataframe\">\n",
       "  <thead>\n",
       "    <tr style=\"text-align: right;\">\n",
       "      <th></th>\n",
       "      <th>comment</th>\n",
       "      <th>label</th>\n",
       "      <th>stem_transform</th>\n",
       "      <th>lemma_transform</th>\n",
       "    </tr>\n",
       "  </thead>\n",
       "  <tbody>\n",
       "    <tr>\n",
       "      <th>8548</th>\n",
       "      <td>living with a mulatto at university sounds hor...</td>\n",
       "      <td>N</td>\n",
       "      <td>live mulatto univers sound horribl would neckrop</td>\n",
       "      <td>living mulatto university sound horrible would...</td>\n",
       "    </tr>\n",
       "    <tr>\n",
       "      <th>24244</th>\n",
       "      <td>Hong Kongers are struggling everywhere whether...</td>\n",
       "      <td>P</td>\n",
       "      <td>hong konger struggl everywher whether activ li...</td>\n",
       "      <td>hong kongers struggling everywhere whether act...</td>\n",
       "    </tr>\n",
       "  </tbody>\n",
       "</table>\n",
       "</div>"
      ],
      "text/plain": [
       "                                                 comment label  \\\n",
       "8548   living with a mulatto at university sounds hor...     N   \n",
       "24244  Hong Kongers are struggling everywhere whether...     P   \n",
       "\n",
       "                                          stem_transform  \\\n",
       "8548    live mulatto univers sound horribl would neckrop   \n",
       "24244  hong konger struggl everywher whether activ li...   \n",
       "\n",
       "                                         lemma_transform  \n",
       "8548   living mulatto university sound horrible would...  \n",
       "24244  hong kongers struggling everywhere whether act...  "
      ]
     },
     "execution_count": 161,
     "metadata": {},
     "output_type": "execute_result"
    }
   ],
   "source": [
    "df.sample(2)"
   ]
  },
  {
   "cell_type": "code",
   "execution_count": 60,
   "id": "c1407def-1d50-4396-b94b-22f264970088",
   "metadata": {},
   "outputs": [],
   "source": [
    "def nlp_transform(text):\n",
    "    text = text.lower()\n",
    "    \n",
    "    text = nltk.word_tokenize(text)\n",
    "    \n",
    "    y = []\n",
    "    \n",
    "    for i in text: # removing special characters\n",
    "        if i.isalnum():\n",
    "            y.append(i)\n",
    "            \n",
    "    text = y[:]\n",
    "    y.clear()\n",
    "    \n",
    "    for i in text: # stop words and helping words removal.\n",
    "        if i not in stopwords.words('english') and i not in string.punctuation:\n",
    "            y.append(i)\n",
    "            \n",
    "    text = y[:]\n",
    "    y.clear()\n",
    "    \n",
    "    for i in text:\n",
    "        y.append(ps.stem(i))\n",
    "    \n",
    "    return \" \".join(y)"
   ]
  },
  {
   "cell_type": "code",
   "execution_count": 100,
   "id": "ef03d852-ef75-40cc-8500-dd00449292c9",
   "metadata": {},
   "outputs": [
    {
     "data": {
      "text/plain": [
       "'say actual elimin heeb wish natur becam extinct'"
      ]
     },
     "execution_count": 100,
     "metadata": {},
     "output_type": "execute_result"
    }
   ],
   "source": [
    "nlp_transform(df['comment'][3])"
   ]
  },
  {
   "cell_type": "code",
   "execution_count": 102,
   "id": "d78a54b7-0052-4657-b7f8-65313dffae82",
   "metadata": {},
   "outputs": [],
   "source": [
    "from nltk.stem import WordNetLemmatizer\n",
    "# nltk.download('punkt') \n",
    "\n",
    "lemma = WordNetLemmatizer()"
   ]
  },
  {
   "cell_type": "code",
   "execution_count": 121,
   "id": "f419f55e-45ec-4fce-9098-5c34cb214981",
   "metadata": {},
   "outputs": [],
   "source": [
    "def nlp_transform2(text):\n",
    "    text = text.lower()\n",
    "    \n",
    "    text = nltk.word_tokenize(text)\n",
    "    \n",
    "    y = []\n",
    "    \n",
    "    for i in text: # removing special characters\n",
    "        if i.isalnum():\n",
    "            y.append(i)\n",
    "            \n",
    "    text = y[:]\n",
    "    y.clear()\n",
    "    \n",
    "    for i in text: # stop words and helping words removal.\n",
    "        if i not in stopwords.words('english') and i not in string.punctuation:\n",
    "            y.append(i)\n",
    "            \n",
    "    text = y[:]\n",
    "    y.clear()\n",
    "    \n",
    "    for i in text:\n",
    "        y.append(lemma.lemmatize(i))\n",
    "    \n",
    "    return \" \".join(y)"
   ]
  },
  {
   "cell_type": "code",
   "execution_count": 122,
   "id": "24430056-de8f-490e-a79b-57f380c352d7",
   "metadata": {},
   "outputs": [
    {
     "data": {
      "text/plain": [
       "'rape culture immigrant woman even see rape'"
      ]
     },
     "execution_count": 122,
     "metadata": {},
     "output_type": "execute_result"
    }
   ],
   "source": [
    "nlp_transform2(df['comment'][14])"
   ]
  },
  {
   "cell_type": "markdown",
   "id": "d62cb017-3e4e-4ce0-a5a8-47bbcf56b32f",
   "metadata": {},
   "source": [
    "#### we will try both lemmatization and stemming in modeling"
   ]
  },
  {
   "cell_type": "code",
   "execution_count": 125,
   "id": "bc290385-803e-4076-9837-d4e51010b749",
   "metadata": {},
   "outputs": [
    {
     "name": "stdout",
     "output_type": "stream",
     "text": [
      "CPU times: total: 6min 9s\n",
      "Wall time: 6min 25s\n"
     ]
    }
   ],
   "source": [
    "%%time\n",
    "\n",
    "df['stem_transform'] = df['comment'].apply(nlp_transform)"
   ]
  },
  {
   "cell_type": "code",
   "execution_count": 126,
   "id": "88d62cc3-f686-49a4-b2a2-185fb6077829",
   "metadata": {},
   "outputs": [
    {
     "name": "stdout",
     "output_type": "stream",
     "text": [
      "CPU times: total: 5min 50s\n",
      "Wall time: 5min 55s\n"
     ]
    }
   ],
   "source": [
    "%%time\n",
    "\n",
    "df['lemma_transform'] = df['comment'].apply(nlp_transform2)"
   ]
  },
  {
   "cell_type": "code",
   "execution_count": 148,
   "id": "131aef07-d6b0-46b1-8559-89f993f4faa6",
   "metadata": {},
   "outputs": [],
   "source": [
    "new2_df = df.copy()"
   ]
  },
  {
   "cell_type": "code",
   "execution_count": 152,
   "id": "b86b2150-9526-467c-bf96-b36a5df420fb",
   "metadata": {},
   "outputs": [],
   "source": [
    "new2_df.to_csv('transformed_df.csv', sep=',', index=False, encoding='utf-8')"
   ]
  },
  {
   "cell_type": "code",
   "execution_count": 163,
   "id": "a2fd8988-71c3-46e3-a40b-d36808419df3",
   "metadata": {},
   "outputs": [],
   "source": [
    "df['encoded_label'] = df['label'].replace({'N':0, \"P\":1})"
   ]
  },
  {
   "cell_type": "code",
   "execution_count": 166,
   "id": "f2b3c77a-c9e5-4e08-bb0b-ba83250c7813",
   "metadata": {},
   "outputs": [
    {
     "data": {
      "text/plain": [
       "encoded_label\n",
       "0    22175\n",
       "1    18968\n",
       "Name: count, dtype: int64"
      ]
     },
     "execution_count": 166,
     "metadata": {},
     "output_type": "execute_result"
    }
   ],
   "source": [
    "df['encoded_label'].value_counts()"
   ]
  },
  {
   "cell_type": "code",
   "execution_count": null,
   "id": "3e4e87f1",
   "metadata": {},
   "outputs": [],
   "source": [
    "from sklearn.model_selection import train_test_split\n",
    "from sklearn.feature_extraction.text import TfidfVectorizer\n",
    "from sklearn.linear_model import LogisticRegression\n",
    "from sklearn.naive_bayes import MultinomialNB, GaussianNB, BernoulliNB, ComplementNB\n",
    "from sklearn.metrics import confusion_matrix, precision_score, accuracy_score"
   ]
  },
  {
   "cell_type": "code",
   "execution_count": null,
   "id": "4535ee91",
   "metadata": {},
   "outputs": [],
   "source": [
    "i = 17500\n",
    "positive_samples = df[df['encoded_label'] == 1]\n",
    "negative_samples = df[df['encoded_label'] == 0]\n",
    "\n",
    "# Perform random subsampling for each class\n",
    "# You can adjust the subsample size for each class as needed\n",
    "positive_subsample = positive_samples.sample(n = i, random_state = 0)\n",
    "negative_subsample = negative_samples.sample(n = i, random_state = 0)\n",
    "\n",
    "# Combine the subsamples into a single DataFrame\n",
    "subsampled_df = pd.concat([positive_subsample, negative_subsample])\n",
    "\n",
    "# Shuffle the entire DataFrame to randomize the order of samples\n",
    "subsampled_df = shuffle(subsampled_df, random_state=0).reset_index(drop=True)"
   ]
  },
  {
   "cell_type": "code",
   "execution_count": null,
   "id": "9084b05d",
   "metadata": {},
   "outputs": [],
   "source": [
    "X = subsampled_df['lemma_transform']  # Your feature data (text)\n",
    "y = subsampled_df['encoded_label']  # Your labels (0 for negative sentiment, 1 for positive sentiment)\n",
    "\n",
    "X_train, X_test, y_train, y_test = train_test_split(X, y, test_size=0.3, random_state=0, shuffle = True)\n",
    "\n",
    "# TF-IDF vectorization\n",
    "tfidf_vectorizer = TfidfVectorizer(max_features=5000)\n",
    "\n",
    "X_train = tfidf_vectorizer.fit_transform(X_train).toarray()\n",
    "X_test = tfidf_vectorizer.transform(X_test).toarray()\n",
    "\n",
    "final_model = MultinomialNB(alpha = 20)\n",
    "\n",
    "final_model.fit(X_train, y_train)\n",
    "\n",
    "# Make predictions on the test data\n",
    "y_pred = final_model.predict(X_test)\n",
    "\n",
    "# Calculate precision score\n",
    "accuracy = accuracy_score(y_test, y_pred)\n",
    "precision = precision_score(y_test, y_pred)\n",
    "fscore = f1_score(y_test, y_pred)\n",
    "conf = confusion_matrix(y_test, y_pred)\n",
    "\n",
    "print(i, accuracy, fscore, precision)\n",
    "print(conf)"
   ]
  },
  {
   "cell_type": "code",
   "execution_count": null,
   "id": "ac2a8564",
   "metadata": {},
   "outputs": [],
   "source": [
    "def store_model_score(model_scores, model_name, score):\n",
    "    model_scores[model_name] = score\n",
    "\n",
    "subsample_size = [10000, 12500, 15000]\n",
    "test_size = [0.2, 0.3]\n",
    "random_state = [0, 2, 21, 42]\n",
    "max_features = [1000, 2000, 3000, 4000, 5000, 6000, 7000, 8000, 9000, 10000, 12000, 15000]\n",
    "model_scores = {}"
   ]
  },
  {
   "cell_type": "code",
   "execution_count": null,
   "id": "5740569b",
   "metadata": {},
   "outputs": [],
   "source": [
    "for i in subsample_size:\n",
    "    for j in test_size:\n",
    "        for k in random_state:\n",
    "\n",
    "            positive_samples = df[df['encoded_label'] == 1]\n",
    "            negative_samples = df[df['encoded_label'] == 0]\n",
    "\n",
    "            # Perform random subsampling for each class\n",
    "            # You can adjust the subsample size for each class as needed\n",
    "            positive_subsample = positive_samples.sample(n = i, random_state = k)\n",
    "            negative_subsample = negative_samples.sample(n = i, random_state = k)\n",
    "\n",
    "            # Combine the subsamples into a single DataFrame\n",
    "            subsampled_df = pd.concat([positive_subsample, negative_subsample])\n",
    "\n",
    "            # Shuffle the entire DataFrame to randomize the order of samples\n",
    "            subsampled_df = shuffle(subsampled_df, random_state=k).reset_index(drop=True)\n",
    "\n",
    "            for l in max_features:\n",
    "\n",
    "                # Create a DataFrame for each class (assuming 'Label' is your class column)\n",
    "\n",
    "                # Sample text data and labels (replace with your data)\n",
    "                X = subsampled_df['lemma_transform']  # Your feature data (text)\n",
    "                y = subsampled_df['encoded_label']  # Your labels (0 for negative sentiment, 1 for positive sentiment)\n",
    "\n",
    "                # Split the dataset into a training and testing set\n",
    "                X_train, X_test, y_train, y_test = train_test_split(X, y, test_size=j, random_state=k)\n",
    "\n",
    "                # TF-IDF vectorization\n",
    "                tfidf_vectorizer = TfidfVectorizer(max_features = l)\n",
    "\n",
    "                X_train_tfidf = tfidf_vectorizer.fit_transform(X_train).toarray()\n",
    "                X_test_tfidf = tfidf_vectorizer.transform(X_test).toarray()\n",
    "\n",
    "                # Define a dictionary with model names and their corresponding configurations\n",
    "                models = {\n",
    "                    # 'LogisticRegression': LogisticRegression(C=1, solver='saga'),\n",
    "                    'MultinomialNB': MultinomialNB(alpha=10),\n",
    "                    'GaussianNB': GaussianNB(),\n",
    "                    'BernoulliNB': BernoulliNB(alpha=10),\n",
    "                    'ComplementNB': ComplementNB(alpha=10),\n",
    "                    # 'Supportvectormachine': SVC(kernel='linear', C=1.0, probability=True, decision_function_shape='ovr', random_state=42),\n",
    "                    # 'XGBoost': xgb.XGBClassifier(n_jobs=-1)\n",
    "                }\n",
    "\n",
    "                # Evaluate precision for each model\n",
    "                for model_name, model in models.items():\n",
    "                    # Train the model\n",
    "                    model.fit(X_train_tfidf, y_train)\n",
    "\n",
    "                    # Make predictions on the test data\n",
    "                    y_pred = model.predict(X_test_tfidf)\n",
    "\n",
    "                    # Calculate precision score\n",
    "                    precision = precision_score(y_test, y_pred)\n",
    "\n",
    "                    store_model_score(model_scores, f'{model_name}_{i,j,k,l}', precision)\n",
    "\n",
    "                print(j,k,l, precision)"
   ]
  },
  {
   "cell_type": "code",
   "execution_count": null,
   "id": "6663d584",
   "metadata": {},
   "outputs": [],
   "source": []
  }
 ],
 "metadata": {
  "kernelspec": {
   "display_name": "Python 3 (ipykernel)",
   "language": "python",
   "name": "python3"
  },
  "language_info": {
   "codemirror_mode": {
    "name": "ipython",
    "version": 3
   },
   "file_extension": ".py",
   "mimetype": "text/x-python",
   "name": "python",
   "nbconvert_exporter": "python",
   "pygments_lexer": "ipython3",
   "version": "3.11.6"
  }
 },
 "nbformat": 4,
 "nbformat_minor": 5
}
